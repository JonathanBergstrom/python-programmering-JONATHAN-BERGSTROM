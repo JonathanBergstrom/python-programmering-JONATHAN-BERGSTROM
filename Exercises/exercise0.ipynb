{
 "cells": [
  {
   "cell_type": "code",
   "execution_count": 2,
   "metadata": {},
   "outputs": [
    {
     "name": "stdout",
     "output_type": "stream",
     "text": [
      "The hypothenuse is 5.0 length units\n"
     ]
    }
   ],
   "source": [
    "#1a\n",
    "import math\n",
    "\n",
    "catheti_a = 3\n",
    "catheti_b = 4\n",
    "\n",
    "hypothenuse = math.sqrt((catheti_a ** 2) + (catheti_b ** 2))\n",
    "\n",
    "\n",
    "print(f\"The hypothenuse is {hypothenuse} length units\")"
   ]
  },
  {
   "cell_type": "code",
   "execution_count": 2,
   "metadata": {},
   "outputs": [
    {
     "name": "stdout",
     "output_type": "stream",
     "text": [
      "Cathetus B is 4.9 lenght units\n"
     ]
    }
   ],
   "source": [
    "#1b\n",
    "import math \n",
    "hypothenuse_1 = 7.0\n",
    "cathetus_a = 5.0\n",
    "\n",
    "cathetus_b = round(math.sqrt((hypothenuse_1 ** 2) - (cathetus_a ** 2)),1)\n",
    "\n",
    "print(f\"Cathetus B is {cathetus_b} lenght units\")"
   ]
  },
  {
   "cell_type": "code",
   "execution_count": 4,
   "metadata": {},
   "outputs": [
    {
     "name": "stdout",
     "output_type": "stream",
     "text": [
      "The accuracy of the model is 0.821917808219178\n"
     ]
    }
   ],
   "source": [
    "#2\n",
    "\n",
    "total_predictions = 365\n",
    "correct_predictions = 300\n",
    "\n",
    "accuracy = correct_predictions / total_predictions\n",
    "\n",
    "print(f\"The accuracy of the model is {accuracy}\")"
   ]
  },
  {
   "cell_type": "code",
   "execution_count": 5,
   "metadata": {},
   "outputs": [
    {
     "name": "stdout",
     "output_type": "stream",
     "text": [
      "The accuracy of this model is 0.987\n"
     ]
    }
   ],
   "source": [
    "#3\n",
    "\n",
    "TP = 2\n",
    "FP = 2\n",
    "FN = 11\n",
    "TN = 985\n",
    "\n",
    "Accuracy = (TP + TN) / (TP + FP + FN + TN)\n",
    "\n",
    "print(f\"The accuracy of this model is {Accuracy}\")\n",
    "\n",
    "#This is not a good model. A model that detects fire can´t have a lot of false negatives to be useful."
   ]
  },
  {
   "cell_type": "code",
   "execution_count": 6,
   "metadata": {},
   "outputs": [
    {
     "name": "stdout",
     "output_type": "stream",
     "text": [
      "k = 0.75 and m = 1.0, so the equation for the slope is y = 0.75x + 1\n"
     ]
    }
   ],
   "source": [
    "#4\n",
    "\n",
    "A = x1, y1 = 4, 4\n",
    "\n",
    "B = x2, y2 = 0, 1\n",
    "\n",
    "k = (y2 - y1) / (x2 - x1)\n",
    "\n",
    "m = y1 - k * x1\n",
    "\n",
    "print(f\"k = {k} and m = {m}, so the equation for the slope is y = 0.75x + 1\")\n",
    "#"
   ]
  },
  {
   "cell_type": "code",
   "execution_count": 7,
   "metadata": {},
   "outputs": [
    {
     "name": "stdout",
     "output_type": "stream",
     "text": [
      "The distance is around 5.1 length units\n"
     ]
    }
   ],
   "source": [
    "#5\n",
    "import math\n",
    "\n",
    "x1, y1 = 3, 5\n",
    "x2, y2 = -2, 4\n",
    "\n",
    "distance = round(math.sqrt((x2 - x1) **2 + (y2 - y1) **2),1)\n",
    "\n",
    "print(f\"The distance is around {distance} length units\")\n"
   ]
  },
  {
   "cell_type": "code",
   "execution_count": 8,
   "metadata": {},
   "outputs": [
    {
     "name": "stdout",
     "output_type": "stream",
     "text": [
      "The distance is around 4.12 length units\n"
     ]
    }
   ],
   "source": [
    "#6\n",
    "import math\n",
    "\n",
    "p1, p2, p3 = 2, 1, 4\n",
    "q1, q2, q3 = 3, 1, 0\n",
    "\n",
    "distance = round(math.sqrt((p1 - q1) **2 +(p2 - q2) **2 + (p3 - q3) **2), 2)\n",
    "\n",
    "print(f\"The distance is around {distance} length units\")"
   ]
  }
 ],
 "metadata": {
  "kernelspec": {
   "display_name": "Python 3",
   "language": "python",
   "name": "python3"
  },
  "language_info": {
   "codemirror_mode": {
    "name": "ipython",
    "version": 3
   },
   "file_extension": ".py",
   "mimetype": "text/x-python",
   "name": "python",
   "nbconvert_exporter": "python",
   "pygments_lexer": "ipython3",
   "version": "3.12.6"
  }
 },
 "nbformat": 4,
 "nbformat_minor": 2
}
